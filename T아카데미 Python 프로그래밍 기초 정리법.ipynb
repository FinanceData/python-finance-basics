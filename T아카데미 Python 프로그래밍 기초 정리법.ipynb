{
 "cells": [
  {
   "cell_type": "markdown",
   "metadata": {
    "slideshow": {
     "slide_type": "slide"
    }
   },
   "source": [
    "# T아카데미 Python 프로그래밍 기초 정리법\n",
    "\n",
    "<img width=\"40%\" src=\"https://i.imgur.com/aRMD1vE.jpg\" >\n",
    "\n",
    "##  강좌와 교재\n",
    "강의와 강의 자료: 회원가입후 수강(무료)\n",
    "* 동영상 강의: https://tacademy.sktechx.com/live/player/onlineLectureDetail.action?seq=89\n",
    "* 강의교재(PDF) : [T_Academy_Python_Programming.pdf](https://github.com/FinanceData/python-finance-basics/files/2591597/T_Academy_Python_Programming.pdf)\n"
   ]
  },
  {
   "cell_type": "markdown",
   "metadata": {
    "slideshow": {
     "slide_type": "slide"
    }
   },
   "source": [
    "## 강좌 유튜브 동영상\n",
    "* https://youtu.be/8WuaFPyap2E  1강 파이썬 개요 및 설치\n",
    "* https://youtu.be/M3hAOWx9dy4 2강 자료형 및 연산자\n",
    "* https://youtu.be/95c1rPUWBco 3강 함수\n",
    "* https://youtu.be/yHCtK8DVACs 4강 제어\n",
    "* https://youtu.be/UyfGDsATXZI 5강 클래스\n",
    "* https://youtu.be/UXAAPqjMB1A  6강 모듈\n",
    "* https://youtu.be/uTUGkx428wE  7강 예외처리\n",
    "* https://youtu.be/EqTWyw9kc7Y  8강 입출력\n",
    "* https://youtu.be/kvu79BxVK6c  9강 문자열 다루기\n",
    "* https://youtu.be/XIxALraYlas  10강 날짜 다루기\n",
    "* https://youtu.be/e9Tt4aK3smM 11강 숫자 다루기\n",
    "* https://youtu.be/n5N1OQ7-zvg 12강 파일 시스템\n",
    "* https://youtu.be/TkNDk5QIYgk 13강 데이터베이스\n",
    "* https://youtu.be/dB-T_kWAR4k 14강 운영체제 관련 기능 \n",
    "* https://youtu.be/L_CNq0j2XDA 15강 문법 총정리 및 프로젝트"
   ]
  },
  {
   "cell_type": "markdown",
   "metadata": {
    "slideshow": {
     "slide_type": "slide"
    }
   },
   "source": [
    "## 1강 파이썬 개요 및 설치\n",
    "* 파이썬의 특징\n",
    "    * 가독성, 풍부한 라이브러리, 접착성, 유니코드, 무료, 동적타이핑\n",
    "* <strike>2.X와 3.X 버전차이</strike> → **버전3 사용**\n",
    "    * print의 변화\n",
    "    * long에서 int로 통일\n",
    "    * int / int의 결과가 float으로 처리\n",
    "    * string, unicode 체계 변경.\n",
    "* 설치와 개발환경\n",
    "    * Python을 설치하고 개발환경을 설정\n",
    "    * 기본적인 문법을 숙지\n",
    "\n",
    "   "
   ]
  },
  {
   "cell_type": "markdown",
   "metadata": {
    "slideshow": {
     "slide_type": "slide"
    }
   },
   "source": [
    "## 2강 자료형 및 연산자\n",
    "* 자료형의 종류 및 사용법\n",
    "    * 변수 선언 방법.\n",
    "    * \n",
    "    <span style=\"background-color: yellow; color: black;\"><b>수치</b></span>, \n",
    "    <span style=\"background-color: yellow; color: black;\"><b>문자</b></span>, \n",
    "    <span style=\"background-color: yellow; color: black;\"><b>리스트</b></span>, \n",
    "    세트, \n",
    "    <span style=\"background-color: yellow; color: black;\"><b>튜플</b></span>, \n",
    "    <span style=\"background-color: yellow; color: black;\"><b>딕셔너리</b></span>, \n",
    "    부울 등의 자료형\n",
    "    * 각 자료형에 알맞은 연산자를 사용\n",
    "* 얕은 복사와 깊은 복사\n",
    "    * 얕은 복사와 깊은 복사의 차이를 이해하고, 리스트, 딕셔너리 등을 사용할 때 주의"
   ]
  },
  {
   "cell_type": "markdown",
   "metadata": {
    "slideshow": {
     "slide_type": "slide"
    }
   },
   "source": [
    "## 3강 함수\n",
    "* <span style=\"background-color: yellow; color: black;\"><b>함수</b></span>의 정의\n",
    "    * 함수를 이해하고, 인수를 입력받아 원하는 값으로 반환\n",
    "* 함수의 사용\n",
    "    * 함수의 인수 전달 과정을 이해\n",
    "    * 스코핑룰을 이해\n",
    "    * 여러 가지 인수의 사용법을 숙지\n",
    "* <span style=\"color: gray;\">함수의 종류 </span>\n",
    "    * <span style=\"color: gray;\">람다함수, 이터레이터, 제네레이터 </span>"
   ]
  },
  {
   "cell_type": "markdown",
   "metadata": {
    "slideshow": {
     "slide_type": "slide"
    }
   },
   "source": [
    "## 4강 제어\n",
    "* 제어문\n",
    "    * <span style=\"background-color: yellow; color: black;\"><b>If, elif, else, while, for</b></span>\n",
    "    , break, continue의 사용법과 조건의 참/거짓 판단, 단축평가.\n",
    "* 리스트 내장\n",
    "    * 리스트 내장을 이용해 추가적인 연산을 통하여 새로운 객체 리스트를 생성\n",
    "* 제어 관련 함수들\n",
    "    * filter, <span style=\"background-color: yellow; color: black;\"><b>range</b></span>, map 등의 제어 관련 함수들의 사용법 → <b>우선 range 만 잘 정리</b>"
   ]
  },
  {
   "cell_type": "markdown",
   "metadata": {
    "slideshow": {
     "slide_type": "slide"
    }
   },
   "source": [
    "##  <span style=\"color: gray;\">5강 클래스</span>\n",
    "* <span style=\"color: gray;\">클래스의 기본</span>\n",
    "    * <span style=\"color: gray;\">클래스를 정의하는 법</span>\n",
    "* <span style=\"color: gray;\">이름 공간에 대한 이해</span>\n",
    "    * <span style=\"color: gray;\">클래스의 응용</span>\n",
    "    * <span style=\"color: gray;\">생성자와 소멸자</span>\n",
    "    * <span style=\"color: gray;\">메서드 확장</span>\n",
    "    * <span style=\"color: gray;\">연산자 중복</span>\n",
    "    * <span style=\"color: gray;\">상속</span>"
   ]
  },
  {
   "cell_type": "markdown",
   "metadata": {
    "slideshow": {
     "slide_type": "slide"
    }
   },
   "source": [
    "## 6강 모듈\n",
    "* 모듈이란 \n",
    "    * 모듈이란 무엇인가\n",
    "    * 모듈 사용법\n",
    "* <span style=\"color: gray;\">모듈 만들기및 고급 사용법</span>\n",
    "    * <span style=\"color: gray;\">모듈 만들기</span>\n",
    "    * <span style=\"color: gray;\">모듈의 경로</span>\n",
    "    * <span style=\"color: gray;\">임포트 방법</span>\n",
    "    * <span style=\"color: gray;\">바이트 코드</span>\n",
    "    * <span style=\"color: gray;\">패키지</span>"
   ]
  },
  {
   "cell_type": "markdown",
   "metadata": {
    "slideshow": {
     "slide_type": "slide"
    }
   },
   "source": [
    "## 7강 <span style=\"color: gray;\">예외처리</span>\n",
    "* <span style=\"color: gray;\">예외란</span>\n",
    "    * <span style=\"color: gray;\">예외의 정의</span>\n",
    "    * <span style=\"color: gray;\">예외의 종류들 및 예외 클래스 구조</span>\n",
    "* <span style=\"color: gray;\">예외처리 구문 사용 방법</span>\n",
    "    * <span style=\"color: gray;\">Try, except, else, finally 구문 사용법</span>\n",
    "* <span style=\"color: gray;\">사용자 정의 예외 및 기타 구문</span>\n",
    "    * <span style=\"color: gray;\">raise, assert 구문 사용법</span>\n",
    "    * <span style=\"color: gray;\">사용자 정의 예외처리 방법</span>\n",
    " "
   ]
  },
  {
   "cell_type": "markdown",
   "metadata": {
    "slideshow": {
     "slide_type": "slide"
    }
   },
   "source": [
    "## 8강 입출력\n",
    "* 입출력\n",
    "    * print, input의 사용법과 다양한 포맷팅을 하는 방법\n",
    "* 파일 입출력\n",
    "    * 파일에 입력과 출력을 하는 방법\n",
    "* 입출력 관련 함수\n",
    "    * format, read, write 등의 입출력 관련 함수들의 사용법 및 pickle 모듈의 사용법"
   ]
  },
  {
   "cell_type": "markdown",
   "metadata": {
    "slideshow": {
     "slide_type": "slide"
    }
   },
   "source": [
    "## 9강 문자열 다루기\n",
    "\n",
    "* 문자열 메서드\n",
    "    * capitalize, count, encode, endswith, expandtabs, \n",
    "    <span style=\"background-color: yellow; color: black;\"><b>find</b></span>, \n",
    "    index, isalbum, isalpha, islower, isspace, istitle, isupper, isdecimal, isdigit, isnumeric, \n",
    "    join, lower, lstrip, rstrip, maketrans, partition, \n",
    "    <span style=\"background-color: yellow; color: black;\"><b>replace</b></span>, \n",
    "    rfind, rindex, rpatition, rsplit, rstrip, \n",
    "    <span style=\"background-color: yellow; color: black;\"><b>split</b></span>,\n",
    "    splitlines, startswith, \n",
    "    <span style=\"background-color: yellow; color: black;\"><b>strip</b></span>,\n",
    "    swapcase, title, upper\n",
    "* 정규 표현식 → <b>요하지만 나중에</b>\n",
    "    * 정규 표현식의 문법\n",
    "    * escape 문자열\n",
    "    * re 모듈의 함수들과 용법 re.search, re.match, re.split, re.findall, re.sub"
   ]
  },
  {
   "cell_type": "markdown",
   "metadata": {
    "slideshow": {
     "slide_type": "slide"
    }
   },
   "source": [
    "## 10강 날짜 다루기\n",
    "* 시간(time)모듈\n",
    "    * 여러 가지 시간표현 방법\n",
    "    * Time 모듈의 주요 함수들\n",
    "    * 형식 지시자로 시간을 표현하는 방법들\n",
    "* 날짜 시간(datetime)모듈\n",
    "    * datetime 모듈의 유용한 여러 클래스들\n",
    "    * 시간끼리의 연산법"
   ]
  },
  {
   "cell_type": "markdown",
   "metadata": {
    "slideshow": {
     "slide_type": "slide"
    }
   },
   "source": [
    "## 11강 숫자 다루기\n",
    "<span style=\"color: gray;\"></span>\n",
    "\n",
    "* <span style=\"color: gray;\">수학모듈</span>\n",
    "    * <span style=\"color: gray;\">수학 관련 내장 함수들과 math 모듈의 사용</span>\n",
    "* <span style=\"color: gray;\">분수</span>, 랜덤 모듈\n",
    "    * <span style=\"color: gray;\">분수 모듈과 </span>랜덤 모듈의 다양한 사용\n",
    "* <span style=\"color: gray;\">부동 소수점, 십진법 모듈</span>\n",
    "    * <span style=\"color: gray;\">부동 소수점 표현 방식이란 무엇인가</span>\n",
    "    * <span style=\"color: gray;\">부동 소수점의 문제점 및 십진법 모듈의 사용법</span>"
   ]
  },
  {
   "cell_type": "markdown",
   "metadata": {
    "slideshow": {
     "slide_type": "slide"
    }
   },
   "source": [
    "## <span style=\"color: gray;\">12강 파일 시스템</span>\n",
    "* <span style=\"color: gray;\">os.path</span>\n",
    "    * <span style=\"color: gray;\">os.path에 포함된 기능들 및 활용법</span>\n",
    "    * <span style=\"color: gray;\">abspath, basename, commonprefix, dirname, exists, expanduser, expandvars, getatime, getmtime, getctime, getsize, isabs, isfile, isdir, join, normcase, normpath, split, splitdrive, splitext</span>\n",
    "* glob\n",
    "    * 탐색에 유용한 glob, iglob에 대한 활용법\n",
    "* <span style=\"color: gray;\">tree 프로젝트</span>\n",
    "    * <span style=\"color: gray;\">os.path와 glob 모듈의 활용법</span>"
   ]
  },
  {
   "cell_type": "markdown",
   "metadata": {
    "slideshow": {
     "slide_type": "slide"
    }
   },
   "source": [
    "## 13강 데이터베이스\n",
    "* SQLite3의 기본\n",
    "    * SQLite3에서 제공되는 모듈 함수, Connection 클래스, Cursor 클래스\n",
    "* SQLite3의 사용법\n",
    "    * 데이터베이스 연결, SQL 문 수행, 레코드 조회, 트랜잭션 처리, 레코드의 정렬, 자료형, 데이터베이스 덤프\n",
    "* 예제 프로젝트\n",
    "    * 앞에서 배운 기능들을 활용해 데이터베이스 명령어 프롬프트 프로그램 작성"
   ]
  },
  {
   "cell_type": "markdown",
   "metadata": {
    "slideshow": {
     "slide_type": "slide"
    }
   },
   "source": [
    "## <span style=\"color: gray;\">14강 운영체제 관련 기능</span>\n",
    "<span style=\"color: gray;\"></span>\n",
    "\n",
    "* <span style=\"color: gray;\">os 모듈</span>\n",
    "    * <span style=\"color: gray;\">chdir, getcwd, access, listdir, mkdir, makedirs, remove, unlink, rmdir, removedirs, rename, utime, walk, pipe, fdopen, popen, system, startfile, exec 등의 기능 및 사용법</span>\n",
    "* <span style=\"color: gray;\">sys 모듈</span>\n",
    "    * <span style=\"color: gray;\">argv, exc info, exit, path의 사용법</span>\n",
    "* <span style=\"color: gray;\">threading 모듈</span>\n",
    "    * <span style=\"color: gray;\">스레드와 락의 개념 및 threading 모듈의 사용법</span>"
   ]
  },
  {
   "cell_type": "markdown",
   "metadata": {
    "slideshow": {
     "slide_type": "slide"
    }
   },
   "source": [
    "## 15강 문법 총정리 및 프로젝트\n",
    "* 문법 총정리\n",
    "    * 들여쓰기, 자료형, 제어, 함수, 클래스, 모듈, 예외, 입출력\n",
    "* 외부 모듈\n",
    "    * pip install을 통한 외부모듈 설치\n",
    "* 프로젝트\n",
    "    * 그동안 배운 모든 방법들을 총동원하여 주식정보를 가져오는 프로젝트 수행"
   ]
  },
  {
   "cell_type": "markdown",
   "metadata": {
    "slideshow": {
     "slide_type": "skip"
    }
   },
   "source": [
    "#### 2018 CCL(BY-NC-ND) FinanceData.KR"
   ]
  }
 ],
 "metadata": {
  "celltoolbar": "Slideshow",
  "kernelspec": {
   "display_name": "Python 3",
   "language": "python",
   "name": "python3"
  },
  "language_info": {
   "codemirror_mode": {
    "name": "ipython",
    "version": 3
   },
   "file_extension": ".py",
   "mimetype": "text/x-python",
   "name": "python",
   "nbconvert_exporter": "python",
   "pygments_lexer": "ipython3",
   "version": "3.5.2"
  }
 },
 "nbformat": 4,
 "nbformat_minor": 2
}
